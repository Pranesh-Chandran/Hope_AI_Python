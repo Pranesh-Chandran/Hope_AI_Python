{
 "cells": [
  {
   "cell_type": "code",
   "execution_count": 1,
   "id": "e21222c7-6d08-49eb-9c8a-2b01fb9ff50f",
   "metadata": {},
   "outputs": [
    {
     "name": "stdout",
     "output_type": "stream",
     "text": [
      "HOPE AI\n"
     ]
    }
   ],
   "source": [
    "#print Statement \"HOPE AI\"\n",
    "print(\"HOPE AI\")\n"
   ]
  },
  {
   "cell_type": "code",
   "execution_count": 3,
   "id": "e5771ebd-9c78-44fc-96e1-be8da27ca3ae",
   "metadata": {},
   "outputs": [
    {
     "name": "stdin",
     "output_type": "stream",
     "text": [
      "Enter your institute name? : HOPE AI\n"
     ]
    },
    {
     "name": "stdout",
     "output_type": "stream",
     "text": [
      "HOPE AI\n"
     ]
    }
   ],
   "source": [
    "# Buy input \"Hope AI\"\n",
    "print(input(\"Enter your institute name? :\"))"
   ]
  },
  {
   "cell_type": "code",
   "execution_count": 4,
   "id": "7b066d84-f21b-4993-b3c0-63ebe6531b4e",
   "metadata": {},
   "outputs": [
    {
     "name": "stdin",
     "output_type": "stream",
     "text": [
      "Enter your name: Pranesh Chandran\n"
     ]
    },
    {
     "name": "stdout",
     "output_type": "stream",
     "text": [
      "Pranesh Chandran\n"
     ]
    },
    {
     "name": "stdin",
     "output_type": "stream",
     "text": [
      "Enter your age : 35\n"
     ]
    },
    {
     "name": "stdout",
     "output_type": "stream",
     "text": [
      "35\n"
     ]
    },
    {
     "name": "stdin",
     "output_type": "stream",
     "text": [
      "Enter your school name : H.R.M.S\n"
     ]
    },
    {
     "name": "stdout",
     "output_type": "stream",
     "text": [
      "H.R.M.S\n"
     ]
    },
    {
     "name": "stdin",
     "output_type": "stream",
     "text": [
      "Enter your degree : B.Tech-I.T\n"
     ]
    },
    {
     "name": "stdout",
     "output_type": "stream",
     "text": [
      "B.Tech-I.T\n"
     ]
    }
   ],
   "source": [
    "#Buy inputs\n",
    "print(input(\"Enter your name:\"))\n",
    "print(input(\"Enter your age :\"))\n",
    "print(input(\"Enter your school name :\"))\n",
    "print(input(\"Enter your degree :\"))"
   ]
  },
  {
   "cell_type": "code",
   "execution_count": 6,
   "id": "556ac4ff-4e20-4e72-bd0a-b58ac1b33e95",
   "metadata": {},
   "outputs": [
    {
     "name": "stdout",
     "output_type": "stream",
     "text": [
      "Enter your name: Pranesh Chandran\n",
      "Enter your age : 35\n",
      "Enter your school name : H.R.M.S\n",
      "Enter your degree : B.Tech-I.T\n"
     ]
    }
   ],
   "source": [
    "name = \"Pranesh Chandran\"\n",
    "age = 35\n",
    "schoolName = \"H.R.M.S\"\n",
    "degree = \"B.Tech-I.T\"\n",
    "print(\"Enter your name:\",name)\n",
    "print(\"Enter your age :\",age)\n",
    "print(\"Enter your school name :\", schoolName)\n",
    "print(\"Enter your degree :\", degree)"
   ]
  },
  {
   "cell_type": "code",
   "execution_count": 7,
   "id": "3e261f0f-bce3-46bc-b304-b3ec89a53d19",
   "metadata": {},
   "outputs": [
    {
     "name": "stdout",
     "output_type": "stream",
     "text": [
      "a=  43\n",
      "b=  34\n",
      "add=  77\n"
     ]
    }
   ],
   "source": [
    "#Addition a= 43, b= 34, add = 77\n",
    "a= 43\n",
    "b= 34\n",
    "add = a + b\n",
    "print(\"a= \", a)\n",
    "print(\"b= \", b)\n",
    "print(\"add= \", add)"
   ]
  },
  {
   "cell_type": "code",
   "execution_count": 8,
   "id": "4eed46da-b426-4c99-800f-dab115e603a7",
   "metadata": {},
   "outputs": [
    {
     "name": "stdout",
     "output_type": "stream",
     "text": [
      "a=  43\n",
      "b=  34\n",
      "Sub=  9\n"
     ]
    }
   ],
   "source": [
    "#Subtraction a= 43, b= 34, Sub = 9\n",
    "a= 43\n",
    "b = 34\n",
    "sub = a - b\n",
    "print(\"a= \", a)\n",
    "print(\"b= \", b)\n",
    "print(\"Sub= \", sub)\n"
   ]
  },
  {
   "cell_type": "code",
   "execution_count": 9,
   "id": "3d581653-aebe-4477-b748-f872bac2d8ff",
   "metadata": {},
   "outputs": [
    {
     "name": "stdout",
     "output_type": "stream",
     "text": [
      "a=  63\n",
      "b=  97\n",
      "Mul=  6111\n"
     ]
    }
   ],
   "source": [
    "#Multiplication a= 63, b= 97, Mul = 6111\n",
    "a= 63\n",
    "b= 97\n",
    "mul = a*b\n",
    "print(\"a= \", a)\n",
    "print(\"b= \", b)\n",
    "print(\"Mul= \", mul)"
   ]
  },
  {
   "cell_type": "code",
   "execution_count": 10,
   "id": "f1392388-fed1-4690-a73b-42b31b17d36a",
   "metadata": {},
   "outputs": [
    {
     "name": "stdout",
     "output_type": "stream",
     "text": [
      "a=  76\n",
      "b=  31\n",
      "Div=  2.4516129032258065\n"
     ]
    }
   ],
   "source": [
    "#Division a= 76, b= 31, Float Div = 2.4516129032258065\n",
    "a= 76\n",
    "b= 31\n",
    "div= a/b\n",
    "print(\"a= \", a)\n",
    "print(\"b= \", b)\n",
    "print(\"Div= \", div)\n"
   ]
  },
  {
   "cell_type": "code",
   "execution_count": 11,
   "id": "59cc473d-d6d5-491c-90e1-1fe2e81c657b",
   "metadata": {},
   "outputs": [
    {
     "name": "stdout",
     "output_type": "stream",
     "text": [
      "a=  76\n",
      "b=  31\n",
      "Floor Div =  2\n"
     ]
    }
   ],
   "source": [
    "#Floor division, a= 76, b= 31, Floor Div = 2\n",
    "a= 76\n",
    "b= 31\n",
    "floorDiv = a//b\n",
    "print(\"a= \", a)\n",
    "print(\"b= \", b)\n",
    "print(\"Floor Div = \", floorDiv)\n"
   ]
  },
  {
   "cell_type": "code",
   "execution_count": 13,
   "id": "79e17f8d-3276-479e-b2b1-9518b8e2240c",
   "metadata": {},
   "outputs": [
    {
     "name": "stdout",
     "output_type": "stream",
     "text": [
      "a=  76\n",
      "b=  31\n",
      "Modulo =  14\n"
     ]
    }
   ],
   "source": [
    " #Modulo a= 76, b= 31, Modulo = 14\n",
    "a= 76\n",
    "b= 31\n",
    "modulo = a%b\n",
    "print(\"a= \", a)\n",
    "print(\"b= \", b)\n",
    "print(\"Modulo = \", modulo)"
   ]
  },
  {
   "cell_type": "code",
   "execution_count": 14,
   "id": "c3dd6c51-8a65-42bd-a84e-10f44d1ae13e",
   "metadata": {},
   "outputs": [
    {
     "name": "stdout",
     "output_type": "stream",
     "text": [
      "a=  4\n",
      "b=  4\n",
      "Power =  256\n"
     ]
    }
   ],
   "source": [
    "#Power a= 4, b= 4, Power = 256\n",
    "a= 4\n",
    "b= 4\n",
    "power = pow(4, 4)\n",
    "print(\"a= \", a)\n",
    "print(\"b= \", b)\n",
    "print(\"Power = \", power)\n"
   ]
  },
  {
   "cell_type": "code",
   "execution_count": null,
   "id": "25ca25ca-edff-4d80-9711-9967130b0a40",
   "metadata": {},
   "outputs": [],
   "source": []
  }
 ],
 "metadata": {
  "kernelspec": {
   "display_name": "Python 3 (ipykernel)",
   "language": "python",
   "name": "python3"
  },
  "language_info": {
   "codemirror_mode": {
    "name": "ipython",
    "version": 3
   },
   "file_extension": ".py",
   "mimetype": "text/x-python",
   "name": "python",
   "nbconvert_exporter": "python",
   "pygments_lexer": "ipython3",
   "version": "3.13.5"
  }
 },
 "nbformat": 4,
 "nbformat_minor": 5
}
