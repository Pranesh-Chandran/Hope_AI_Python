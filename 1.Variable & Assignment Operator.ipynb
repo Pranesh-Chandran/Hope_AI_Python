{
 "cells": [
  {
   "cell_type": "code",
   "execution_count": 3,
   "id": "5c95a6b4-c13d-4029-84be-0701f17a9181",
   "metadata": {},
   "outputs": [
    {
     "name": "stdout",
     "output_type": "stream",
     "text": [
      "welcome\n"
     ]
    }
   ],
   "source": [
    "print(\"welcome\")"
   ]
  },
  {
   "cell_type": "code",
   "execution_count": 7,
   "id": "9699ae0f-2096-4e74-b1be-ce2f4d741672",
   "metadata": {},
   "outputs": [],
   "source": [
    "num = 10\n",
    "num2 = 30\n",
    "add = num+num2"
   ]
  },
  {
   "cell_type": "code",
   "execution_count": null,
   "id": "80f798e5-758e-418e-b2ad-1f0991710852",
   "metadata": {},
   "outputs": [],
   "source": []
  },
  {
   "cell_type": "code",
   "execution_count": 8,
   "id": "37b063be-c083-4ab7-9361-e6ab125f8c30",
   "metadata": {},
   "outputs": [],
   "source": [
    "num1=10\n",
    "num2=20\n",
    "add=num1+num2"
   ]
  },
  {
   "cell_type": "code",
   "execution_count": 9,
   "id": "2634a9d2-b8c1-466f-8e7b-660a62ea1a08",
   "metadata": {},
   "outputs": [],
   "source": []
  },
  {
   "cell_type": "code",
   "execution_count": 13,
   "id": "9db03d37-0ae8-410b-8736-7458e2894733",
   "metadata": {},
   "outputs": [
    {
     "name": "stdout",
     "output_type": "stream",
     "text": [
      "300\n"
     ]
    }
   ],
   "source": [
    "a1=100\n",
    "a2=200\n",
    "add=a1+a2\n",
    "print(add)\n",
    "\n"
   ]
  },
  {
   "cell_type": "code",
   "execution_count": 14,
   "id": "a155edaf-ac65-4376-9bb8-8aa7e9eeaf57",
   "metadata": {},
   "outputs": [
    {
     "name": "stdout",
     "output_type": "stream",
     "text": [
      "300\n"
     ]
    }
   ],
   "source": [
    "print(add)"
   ]
  },
  {
   "cell_type": "code",
   "execution_count": 15,
   "id": "22e48791-1cfa-4df1-9b1c-99d9c43348a8",
   "metadata": {},
   "outputs": [
    {
     "name": "stdout",
     "output_type": "stream",
     "text": [
      "50\n"
     ]
    }
   ],
   "source": [
    "Num1=40\n",
    "Num2=10\n",
    "print(Num1+Num2)"
   ]
  },
  {
   "cell_type": "code",
   "execution_count": 16,
   "id": "d61b6220-da9e-4e10-868a-5ab8bdd8bd7f",
   "metadata": {},
   "outputs": [],
   "source": [
    "add = Num1+Num2"
   ]
  },
  {
   "cell_type": "code",
   "execution_count": 17,
   "id": "ce72eaf6-4a5b-4f6a-9253-83f66e372c98",
   "metadata": {},
   "outputs": [
    {
     "name": "stdout",
     "output_type": "stream",
     "text": [
      "50\n"
     ]
    }
   ],
   "source": [
    "print(add)"
   ]
  },
  {
   "cell_type": "code",
   "execution_count": 18,
   "id": "b2b660e9-4bff-41f0-9042-b9d31c9d5bf6",
   "metadata": {},
   "outputs": [
    {
     "name": "stdout",
     "output_type": "stream",
     "text": [
      "Pranesh\n",
      "Chandran\n",
      "PraneshChandran\n"
     ]
    }
   ],
   "source": [
    "first_name = \"Pranesh\"\n",
    "last_name = \"Chandran\"\n",
    "print(first_name);\n",
    "print(last_name);\n",
    "print(first_name + last_name);"
   ]
  },
  {
   "cell_type": "code",
   "execution_count": 23,
   "id": "3a5b6eca-5053-4f61-b9ea-a6a00a9a7ff8",
   "metadata": {},
   "outputs": [
    {
     "name": "stdout",
     "output_type": "stream",
     "text": [
      "Number1: 10\n",
      "Number2: 20\n",
      "Total: 30\n"
     ]
    }
   ],
   "source": [
    "num1 = 10;\n",
    "num2 = 20;\n",
    "ans = num1+num2;\n",
    "print(\"Number1:\", num1);\n",
    "print(\"Number2:\", num2);\n",
    "print(\"Total:\", ans);"
   ]
  },
  {
   "cell_type": "code",
   "execution_count": 24,
   "id": "d4523c34-a542-46c4-b300-2d3e1e5288cf",
   "metadata": {},
   "outputs": [
    {
     "name": "stdout",
     "output_type": "stream",
     "text": [
      "hello\n"
     ]
    }
   ],
   "source": [
    "print('hello')"
   ]
  },
  {
   "cell_type": "code",
   "execution_count": 26,
   "id": "bef2702a-95a2-4308-877b-afd0a00d2f01",
   "metadata": {},
   "outputs": [
    {
     "name": "stdout",
     "output_type": "stream",
     "text": [
      "10\n"
     ]
    }
   ],
   "source": [
    "Add1=10\n",
    "print(Add1)"
   ]
  },
  {
   "cell_type": "code",
   "execution_count": null,
   "id": "6fc6b06d-29f2-4c39-8f15-67c5584c4cef",
   "metadata": {},
   "outputs": [],
   "source": []
  }
 ],
 "metadata": {
  "kernelspec": {
   "display_name": "Python 3 (ipykernel)",
   "language": "python",
   "name": "python3"
  },
  "language_info": {
   "codemirror_mode": {
    "name": "ipython",
    "version": 3
   },
   "file_extension": ".py",
   "mimetype": "text/x-python",
   "name": "python",
   "nbconvert_exporter": "python",
   "pygments_lexer": "ipython3",
   "version": "3.13.5"
  }
 },
 "nbformat": 4,
 "nbformat_minor": 5
}
