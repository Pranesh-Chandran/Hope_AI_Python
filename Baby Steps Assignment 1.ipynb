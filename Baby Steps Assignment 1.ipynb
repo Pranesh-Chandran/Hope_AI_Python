{
 "cells": [
  {
   "cell_type": "code",
   "execution_count": 1,
   "id": "9fe72ef7-525a-460d-b34d-cdaf8d99db6e",
   "metadata": {},
   "outputs": [],
   "source": [
    "#Print Welcome to Assignment-1"
   ]
  },
  {
   "cell_type": "code",
   "execution_count": 2,
   "id": "24bde796-b335-429b-acf6-ec6e685b425c",
   "metadata": {},
   "outputs": [
    {
     "name": "stdout",
     "output_type": "stream",
     "text": [
      "Welcome to Assignment-1\n"
     ]
    }
   ],
   "source": [
    "print(\"Welcome to Assignment-1\")"
   ]
  },
  {
   "cell_type": "code",
   "execution_count": 7,
   "id": "a7f6352a-6c3a-4ca0-b77a-016c3d327c8f",
   "metadata": {},
   "outputs": [
    {
     "name": "stdout",
     "output_type": "stream",
     "text": [
      "Num1=  10\n",
      "Num2=  30\n",
      "Add =  40\n"
     ]
    }
   ],
   "source": [
    "# Num1= 10 Num2= 30 Add= 40\n",
    "Num1= 10\n",
    "Num2= 30\n",
    "Add= Num1 + Num2\n",
    "print(\"Num1= \",Num1)\n",
    "print(\"Num2= \",Num2)\n",
    "print(\"Add = \",Add)\n"
   ]
  },
  {
   "cell_type": "code",
   "execution_count": 12,
   "id": "82da42bb-21da-48ed-a759-5e4f59c9457c",
   "metadata": {},
   "outputs": [
    {
     "name": "stdout",
     "output_type": "stream",
     "text": [
      "Body Mass Index based on range\n"
     ]
    },
    {
     "name": "stdin",
     "output_type": "stream",
     "text": [
      "Enter BMI range:  34\n"
     ]
    },
    {
     "name": "stdout",
     "output_type": "stream",
     "text": [
      "Over weight\n"
     ]
    }
   ],
   "source": [
    "#Body Mass Index\n",
    "print(\"Body Mass Index based on range\")\n",
    "bmiRange = float(input(\"Enter BMI range: \"))\n",
    "if(bmiRange < 18.5):\n",
    "    print(\"Under weight\")\n",
    "elif(bmiRange < 24.9):\n",
    "    print(\"Normal weight\")\n",
    "elif(bmiRange < 34.1):\n",
    "    print(\"Over weight\")\n",
    "elif(bmiRange < 34.9):\n",
    "    print(\"Obese class 1\")\n",
    "elif(bmiRange < 39.9):\n",
    "    print(\"Obese class 2\")\n",
    "else:\n",
    "    print(\"Obses class 3\")\n",
    "    "
   ]
  },
  {
   "cell_type": "code",
   "execution_count": null,
   "id": "1703e7bb-0edd-40ba-a8c4-c5faecd0d02d",
   "metadata": {},
   "outputs": [],
   "source": []
  }
 ],
 "metadata": {
  "kernelspec": {
   "display_name": "Python 3 (ipykernel)",
   "language": "python",
   "name": "python3"
  },
  "language_info": {
   "codemirror_mode": {
    "name": "ipython",
    "version": 3
   },
   "file_extension": ".py",
   "mimetype": "text/x-python",
   "name": "python",
   "nbconvert_exporter": "python",
   "pygments_lexer": "ipython3",
   "version": "3.13.5"
  }
 },
 "nbformat": 4,
 "nbformat_minor": 5
}
