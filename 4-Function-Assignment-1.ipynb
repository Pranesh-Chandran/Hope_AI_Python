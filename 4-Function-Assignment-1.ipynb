{
 "cells": [
  {
   "cell_type": "code",
   "execution_count": 4,
   "id": "e7c4cd49-d998-4999-9dd8-571569d20202",
   "metadata": {},
   "outputs": [],
   "source": [
    "# Create a function, and list out the items in the list\n",
    "def Subfields():\n",
    "    print(\"Sub-fields in AI are: \")\n",
    "    list = [\"Machine Learning\", \"Neural Networks\", \"Vision\", \"Robotics\", \"Speech Processing\", \"Natural Language Processing\"]\n",
    "    for ls in list:\n",
    "        print(ls)"
   ]
  },
  {
   "cell_type": "code",
   "execution_count": 5,
   "id": "9ca41b4d-afd3-4f83-8a7e-5afe8d92d488",
   "metadata": {},
   "outputs": [
    {
     "name": "stdout",
     "output_type": "stream",
     "text": [
      "Sub-fields in AI are: \n",
      "Machine Learning\n",
      "Neural Networks\n",
      "Vision\n",
      "Robotics\n",
      "Speech Processing\n",
      "Natural Language Processing\n"
     ]
    }
   ],
   "source": [
    "Subfields()"
   ]
  },
  {
   "cell_type": "code",
   "execution_count": 8,
   "id": "4f6b3c21-99cf-494d-b9b0-0167eec343c2",
   "metadata": {},
   "outputs": [],
   "source": [
    "# Create a function that checks whether the given number is Odd or Even\n",
    "def OddEven():\n",
    "    num = int(input(\"Enter your number: \"))\n",
    "    if(num % 2 == 0):\n",
    "        print(num, \" is Even number\")\n",
    "    else:\n",
    "        print(num, \" is Odd number\")"
   ]
  },
  {
   "cell_type": "code",
   "execution_count": 11,
   "id": "c9b23cf7-2588-4da9-9ecf-4dd5d2aea53f",
   "metadata": {},
   "outputs": [
    {
     "name": "stdin",
     "output_type": "stream",
     "text": [
      "Enter your number:  52452\n"
     ]
    },
    {
     "name": "stdout",
     "output_type": "stream",
     "text": [
      "52452  is Even number\n"
     ]
    }
   ],
   "source": [
    "OddEven()"
   ]
  },
  {
   "cell_type": "code",
   "execution_count": 31,
   "id": "5e34dbe1-db6b-4340-ab13-d59fe3cfb4f2",
   "metadata": {},
   "outputs": [],
   "source": [
    "# Create a function that tells elegibility of marriage for male and female according to their age limit like 21 for male and 18 for female\n",
    "def Elegible():\n",
    "    gender =input(\"Enter your Gender: \")\n",
    "    age =int(input(\"Enter your Age: \"))    \n",
    "    if(gender == \"Male\"):\n",
    "        if(age <= 20):\n",
    "            print(\"NOT ELIGIBLE\")\n",
    "        else:\n",
    "            print(\"ELIGIBLE\")\n",
    "    elif(gender == \"Female\"):\n",
    "        if(age <= 18):\n",
    "            print(\"NOT ELIGIBLE\")\n",
    "        else:\n",
    "            print(\"ELIGIBLE\")\n",
    "    else:\n",
    "        print(\"Invalid entry\")"
   ]
  },
  {
   "cell_type": "code",
   "execution_count": 33,
   "id": "b2b54ef8-5bbf-4974-bb4b-b0abfff4a2a1",
   "metadata": {},
   "outputs": [
    {
     "name": "stdin",
     "output_type": "stream",
     "text": [
      "Enter your Gender:  Male\n",
      "Enter your Age:  20\n"
     ]
    },
    {
     "name": "stdout",
     "output_type": "stream",
     "text": [
      "NOT ELIGIBLE\n"
     ]
    }
   ],
   "source": [
    "Elegible()"
   ]
  },
  {
   "cell_type": "code",
   "execution_count": 27,
   "id": "b7895c44-dedb-4a14-89ad-901c57a95563",
   "metadata": {},
   "outputs": [],
   "source": [
    "# calculate the percentage of your 10th mark\n",
    "def percentage():\n",
    "    sub1 = int(input(\"Enter subject1 mark :\"))\n",
    "    sub2 = int(input(\"Enter subject2 mark :\"))\n",
    "    sub3 = int(input(\"Enter subject3 mark :\"))\n",
    "    sub4 = int(input(\"Enter subject4 mark :\"))\n",
    "    sub5 = int(input(\"Enter subject5 mark :\"))\n",
    "    total = sub1 + sub2 + sub3 + sub4 + sub5\n",
    "    print(\"Total : \", total)\n",
    "    percentage = (total/500)*100\n",
    "    print(\"Percentage :\", percentage)"
   ]
  },
  {
   "cell_type": "code",
   "execution_count": 28,
   "id": "c7c70f78-8f76-4d38-919e-70b6e09c1fef",
   "metadata": {},
   "outputs": [
    {
     "name": "stdin",
     "output_type": "stream",
     "text": [
      "Enter subject1 mark : 98\n",
      "Enter subject2 mark : 87\n",
      "Enter subject3 mark : 95\n",
      "Enter subject4 mark : 95\n",
      "Enter subject5 mark : 93\n"
     ]
    },
    {
     "name": "stdout",
     "output_type": "stream",
     "text": [
      "Total :  468\n",
      "Percentage : 93.60000000000001\n"
     ]
    }
   ],
   "source": [
    "percentage()"
   ]
  },
  {
   "cell_type": "code",
   "execution_count": 29,
   "id": "e4c44eb7-4f01-4b4d-9440-fbd9c73ef33d",
   "metadata": {},
   "outputs": [],
   "source": [
    "#print area and perimeter of triangle using class and functions\n",
    "def triangle():\n",
    "    height = int(input(\"Enter Height :\"))\n",
    "    breadth = int(input(\"Enter Breadth :\"))\n",
    "    areaFormula = (height*breadth)/2\n",
    "    print(\"Area of Triangle: \", areaFormula)\n",
    "    height1 = int(input(\"Enter Height1 :\"))\n",
    "    height2 = int(input(\"Enter Height2 :\"))\n",
    "    breadth1 = int(input(\"Enter Breadth1 :\"))\n",
    "    formula = height1 + height2 + breadth1\n",
    "    print(\"Perimeter of Triangle :\",formula)\n",
    "    \n",
    "    "
   ]
  },
  {
   "cell_type": "code",
   "execution_count": 30,
   "id": "db639f52-38fa-40cf-a318-356c8101b270",
   "metadata": {},
   "outputs": [
    {
     "name": "stdin",
     "output_type": "stream",
     "text": [
      "Enter Height : 32\n",
      "Enter Breadth : 34\n"
     ]
    },
    {
     "name": "stdout",
     "output_type": "stream",
     "text": [
      "Area of Triangle:  544.0\n"
     ]
    },
    {
     "name": "stdin",
     "output_type": "stream",
     "text": [
      "Enter Height1 : 2\n",
      "Enter Height2 : 4\n",
      "Enter Breadth1 : 4\n"
     ]
    },
    {
     "name": "stdout",
     "output_type": "stream",
     "text": [
      "Perimeter of Triangle : 10\n"
     ]
    }
   ],
   "source": [
    "triangle()"
   ]
  },
  {
   "cell_type": "code",
   "execution_count": null,
   "id": "f0b1ed68-7828-49d6-9a5a-da2c9e6a80bc",
   "metadata": {},
   "outputs": [],
   "source": []
  }
 ],
 "metadata": {
  "kernelspec": {
   "display_name": "Python 3 (ipykernel)",
   "language": "python",
   "name": "python3"
  },
  "language_info": {
   "codemirror_mode": {
    "name": "ipython",
    "version": 3
   },
   "file_extension": ".py",
   "mimetype": "text/x-python",
   "name": "python",
   "nbconvert_exporter": "python",
   "pygments_lexer": "ipython3",
   "version": "3.13.5"
  }
 },
 "nbformat": 4,
 "nbformat_minor": 5
}
