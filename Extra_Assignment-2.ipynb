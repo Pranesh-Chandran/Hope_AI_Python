{
 "cells": [
  {
   "cell_type": "code",
   "execution_count": 5,
   "id": "55ca82ce-1da8-4e2f-a3c7-eede800f0ba9",
   "metadata": {},
   "outputs": [
    {
     "name": "stdout",
     "output_type": "stream",
     "text": [
      "0\n",
      "1\n",
      "2\n",
      "3\n",
      "4\n",
      "5\n",
      "6\n",
      "7\n",
      "8\n",
      "9\n",
      "10\n",
      "11\n",
      "12\n",
      "13\n",
      "14\n",
      "15\n",
      "16\n",
      "17\n",
      "18\n",
      "19\n"
     ]
    }
   ],
   "source": [
    "# print 0 to 20 by using range\n",
    "for tmp in range(0, 20):\n",
    "    print(tmp)"
   ]
  },
  {
   "cell_type": "code",
   "execution_count": 6,
   "id": "0f2a2103-0a6d-4e63-a584-f9ed6fa290f9",
   "metadata": {},
   "outputs": [
    {
     "name": "stdout",
     "output_type": "stream",
     "text": [
      "10\n",
      "11\n",
      "12\n",
      "13\n",
      "14\n",
      "15\n",
      "16\n",
      "17\n",
      "18\n",
      "19\n"
     ]
    }
   ],
   "source": [
    "# print range 10 to 20\n",
    "for tmp1 in range(10, 20):\n",
    "    print(tmp1)\n",
    "    "
   ]
  },
  {
   "cell_type": "code",
   "execution_count": 38,
   "id": "2ca7d026-d6d4-4415-b903-72b19ef1b1a6",
   "metadata": {},
   "outputs": [
    {
     "name": "stdout",
     "output_type": "stream",
     "text": [
      "10 11 12 13 14 15 16 17 18 19 "
     ]
    }
   ],
   "source": [
    "# print range 10 to 20\n",
    "for tmp1 in range(10, 20):\n",
    "    print(tmp1, end=' ')"
   ]
  },
  {
   "cell_type": "code",
   "execution_count": 17,
   "id": "8628f546-f83a-4171-9347-d2d794585532",
   "metadata": {},
   "outputs": [
    {
     "name": "stdout",
     "output_type": "stream",
     "text": [
      "Number of item in the List2: 7\n"
     ]
    }
   ],
   "source": [
    "# Print number of items in the list by using 'len'\n",
    "#[10, 20, 14, 55, 43, 87, 76] , Number of item in the List2: 7\n",
    "\n",
    "items = [10, 20, 14, 55, 43, 87, 76]\n",
    "print(\"Number of item in the List2:\",len(items))"
   ]
  },
  {
   "cell_type": "code",
   "execution_count": 18,
   "id": "2bae0062-0430-4498-a09d-4c133b3fc3a9",
   "metadata": {},
   "outputs": [
    {
     "name": "stdout",
     "output_type": "stream",
     "text": [
      "A\n",
      "r\n",
      "t\n",
      "i\n",
      "f\n",
      "i\n",
      "c\n",
      "i\n",
      "a\n",
      "l\n",
      " \n",
      "I\n",
      "n\n",
      "t\n",
      "e\n",
      "l\n",
      "l\n",
      "i\n",
      "g\n",
      "e\n",
      "n\n",
      "c\n",
      "e\n"
     ]
    }
   ],
   "source": [
    "#Artificial Intelligence\n",
    "for tmp in \"Artificial Intelligence\" :\n",
    "    print(tmp)"
   ]
  },
  {
   "cell_type": "code",
   "execution_count": 20,
   "id": "a63444fe-86a8-4252-a444-63eaffeba9a4",
   "metadata": {},
   "outputs": [
    {
     "name": "stdin",
     "output_type": "stream",
     "text": [
      "-Your Name- Pranesh Chandran\n"
     ]
    },
    {
     "name": "stdout",
     "output_type": "stream",
     "text": [
      "Pranesh Chandran\n"
     ]
    },
    {
     "name": "stdin",
     "output_type": "stream",
     "text": [
      "-Your Age- 35\n"
     ]
    },
    {
     "name": "stdout",
     "output_type": "stream",
     "text": [
      "35\n"
     ]
    },
    {
     "name": "stdin",
     "output_type": "stream",
     "text": [
      "-Your Profession- IT\n"
     ]
    },
    {
     "name": "stdout",
     "output_type": "stream",
     "text": [
      "IT\n"
     ]
    }
   ],
   "source": [
    "\"\"\"-Your Name-\n",
    "-Your Age-\n",
    "-Your Profession-\"\"\"\n",
    "print( input(\"-Your Name-\"))\n",
    "print(input(\"-Your Age-\"))\n",
    "print(input(\"-Your Profession-\"))"
   ]
  },
  {
   "cell_type": "code",
   "execution_count": 22,
   "id": "6bc399a0-dca1-4e4e-825c-59c99d6820de",
   "metadata": {},
   "outputs": [
    {
     "name": "stdin",
     "output_type": "stream",
     "text": [
      "-Your Name- Pranesh Chandran\n",
      "-Your Age- 35\n",
      "-Your Profession- IT\n"
     ]
    }
   ],
   "source": [
    "\"\"\"-Your Name-\n",
    "-Your Age-\n",
    "-Your Profession-\"\"\"\n",
    "name = input(\"-Your Name-\")\n",
    "age = input(\"-Your Age-\")\n",
    "profession = input(\"-Your Profession-\")"
   ]
  },
  {
   "cell_type": "code",
   "execution_count": 23,
   "id": "abe64024-a98d-4e94-b522-86577925a83a",
   "metadata": {},
   "outputs": [
    {
     "name": "stdout",
     "output_type": "stream",
     "text": [
      "(1, 'Welcome', 2, 'Hope')\n"
     ]
    }
   ],
   "source": [
    "# Refer this link : https://www.geeksforgeeks.org/python-tuples/\n",
    "# Print yhis mixered datatype using Tuples\n",
    "#(1, 'Welcome', 2, 'Hope')\n",
    "tup = (1, 'Welcome', 2, 'Hope')\n",
    "print(tup)"
   ]
  },
  {
   "cell_type": "code",
   "execution_count": 29,
   "id": "ccaf8aba-b2f0-493b-af76-b7b5093839fe",
   "metadata": {},
   "outputs": [
    {
     "name": "stdout",
     "output_type": "stream",
     "text": [
      "((0, 1, 2, 3), ('python', 'HOPE'))\n"
     ]
    }
   ],
   "source": [
    "# Refer this link : https://www.geeksforgeeks.org/python-tuples/\n",
    "#Tuple1=(0,1,2,3)\n",
    "tup = (\"python\", \"HOPE\")\n",
    "tup1 = (0,1,2,3)\n",
    "tuple1 = (tup1,tup)\n",
    "print(tuple1)"
   ]
  },
  {
   "cell_type": "code",
   "execution_count": 30,
   "id": "9d7e45c0-7c51-4ed1-b3fc-9eac01b2d247",
   "metadata": {},
   "outputs": [
    {
     "name": "stdout",
     "output_type": "stream",
     "text": [
      "19  is odd\n",
      "25  is odd\n",
      "1  is odd\n"
     ]
    }
   ],
   "source": [
    "# print Odd Numbers in the list\n",
    "#(20,10,16,19,25,1,276,188)\n",
    "lis = (20,10,16,19,25,1,276,188)\n",
    "for tmp in lis:\n",
    "    if(tmp%2 == 1):\n",
    "        print(tmp, \" is odd\")"
   ]
  },
  {
   "cell_type": "code",
   "execution_count": 31,
   "id": "c0e5a764-cc29-46d6-b578-1f1f38637493",
   "metadata": {},
   "outputs": [
    {
     "name": "stdout",
     "output_type": "stream",
     "text": [
      "20  is even\n",
      "10  is even\n",
      "16  is even\n",
      "276  is even\n",
      "188  is even\n"
     ]
    }
   ],
   "source": [
    "# print Even numbers in the list\n",
    "#(20,10,16,19,25,1,276,188)\n",
    "lis1 = (20,10,16,19,25,1,276,188)\n",
    "for tmp in lis1:\n",
    "    if(tmp % 2 ==0):\n",
    "        print(tmp, \" is even\")"
   ]
  },
  {
   "cell_type": "code",
   "execution_count": 43,
   "id": "56400323-3d23-4358-99a1-3c3102db31ad",
   "metadata": {},
   "outputs": [
    {
     "name": "stdout",
     "output_type": "stream",
     "text": [
      "Geeks for Geeks\n",
      "10 11 12 13 14 15 16 17 18 19\n"
     ]
    }
   ],
   "source": [
    "a = ('Geeks', 'for', 'Geeks')\n",
    "print(*a)\n",
    "b = range(10,20)\n",
    "print(*b)"
   ]
  },
  {
   "cell_type": "code",
   "execution_count": null,
   "id": "fd5fdde9-cbe2-4fa4-b32f-316696fe9a4f",
   "metadata": {},
   "outputs": [],
   "source": []
  }
 ],
 "metadata": {
  "kernelspec": {
   "display_name": "Python 3 (ipykernel)",
   "language": "python",
   "name": "python3"
  },
  "language_info": {
   "codemirror_mode": {
    "name": "ipython",
    "version": 3
   },
   "file_extension": ".py",
   "mimetype": "text/x-python",
   "name": "python",
   "nbconvert_exporter": "python",
   "pygments_lexer": "ipython3",
   "version": "3.13.5"
  }
 },
 "nbformat": 4,
 "nbformat_minor": 5
}
