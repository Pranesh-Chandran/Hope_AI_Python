{
 "cells": [
  {
   "cell_type": "code",
   "execution_count": null,
   "id": "511e5dbe",
   "metadata": {},
   "outputs": [],
   "source": [
    "#1. Square of Numbers from 1 to 5\n",
    "Output:\n",
    "1 4 9 16 25\n"
   ]
  },
  {
   "cell_type": "code",
   "execution_count": 25,
   "id": "ea77a934-a313-49ab-9a37-4f6a85c1359e",
   "metadata": {},
   "outputs": [
    {
     "name": "stdout",
     "output_type": "stream",
     "text": [
      "1 4 9 16 25 "
     ]
    }
   ],
   "source": [
    "n = 5\n",
    "tmp =1\n",
    "for i in range(1,n+1):\n",
    "    tmp = i* i\n",
    "    print(tmp, end=' ')"
   ]
  },
  {
   "cell_type": "code",
   "execution_count": null,
   "id": "e886abee",
   "metadata": {},
   "outputs": [],
   "source": [
    "#2.Swap Two Variables Without Using a Temporary Variable\n",
    "Question: Write a Python program to swap two variables a = 5 and b = 10 without using a temporary variable.\n",
    "\n"
   ]
  },
  {
   "cell_type": "code",
   "execution_count": 44,
   "id": "ae8b5a33-f569-488e-ad5b-848b41a4ffab",
   "metadata": {},
   "outputs": [
    {
     "name": "stdout",
     "output_type": "stream",
     "text": [
      "10\n",
      "5\n"
     ]
    }
   ],
   "source": [
    "a =5 \n",
    "b= 10\n",
    "\n",
    "#a = str(a) +\" \"+str(b)\n",
    "#b = a[0]\n",
    "a = (a,b);\n",
    "b = a[0]\n",
    "a = a[1]\n",
    "print(a)\n",
    "print(b)\n"
   ]
  },
  {
   "cell_type": "code",
   "execution_count": null,
   "id": "adfc0479",
   "metadata": {},
   "outputs": [],
   "source": [
    " #3.Find Even and Odd Numbers in a List\n",
    "Question: Write a Python program to separate even and odd numbers from the list [12, 17, 19, 24, 35, 40, 56].\n",
    "\n"
   ]
  },
  {
   "cell_type": "code",
   "execution_count": 21,
   "id": "fb8192fb-23fb-48f2-bbf9-86d092cac459",
   "metadata": {},
   "outputs": [
    {
     "name": "stdout",
     "output_type": "stream",
     "text": [
      "12 even\n",
      "17  odd\n",
      "19  odd\n",
      "24 even\n",
      "35  odd\n",
      "40 even\n",
      "56 even\n"
     ]
    }
   ],
   "source": [
    "#separate even and odd numbers from the list [12, 17, 19, 24, 35, 40, 56].\n",
    "\n",
    "num = [12, 17, 19, 24, 35, 40, 56]\n",
    "count = len(num)\n",
    "for i in range(0, count):\n",
    "    if num[i] % 2 == 0 :\n",
    "        print(num[i], \"even\")\n",
    "    else:\n",
    "        print(num[i],\" odd\")"
   ]
  },
  {
   "cell_type": "code",
   "execution_count": null,
   "id": "9bd0afd7",
   "metadata": {},
   "outputs": [],
   "source": [
    "#4. Reverse a Number\n",
    "Question: Write a Python program to reverse the number 12345.\n",
    "\n"
   ]
  },
  {
   "cell_type": "code",
   "execution_count": 7,
   "id": "6927734c-dbab-42d5-8bae-b84b8ee0fe0e",
   "metadata": {},
   "outputs": [
    {
     "name": "stdout",
     "output_type": "stream",
     "text": [
      "54321\n"
     ]
    }
   ],
   "source": [
    "#Ans:\n",
    "n = \"12345\"\n",
    "print(n[::-1])"
   ]
  },
  {
   "cell_type": "code",
   "execution_count": null,
   "id": "baf1f666",
   "metadata": {},
   "outputs": [],
   "source": [
    "#5. Find the Second Largest Number in a List\n",
    "Question: Write a Python program to find the second largest number in the list [12, 45, 98, 34, 23].\n",
    "\n"
   ]
  },
  {
   "cell_type": "code",
   "execution_count": 15,
   "id": "eb6e77d2",
   "metadata": {},
   "outputs": [
    {
     "name": "stdout",
     "output_type": "stream",
     "text": [
      "[98, 45, 34, 23, 12]\n",
      "45\n"
     ]
    }
   ],
   "source": [
    "n = [12, 45, 98, 34, 23]\n",
    "\"\"\"fst = n[0]\n",
    "sec = 1\n",
    "large = 0\n",
    "for i in n:\n",
    "    if i > fst:\n",
    "        fst = i\n",
    "        large = i\n",
    "    \n",
    "print(large)\"\"\"\n",
    "num = [12, 45, 98, 34, 23]\n",
    "num.sort()\n",
    "num.reverse()\n",
    "print(num)\n",
    "print(num[1])"
   ]
  },
  {
   "cell_type": "code",
   "execution_count": null,
   "id": "cf27438f",
   "metadata": {},
   "outputs": [],
   "source": []
  },
  {
   "cell_type": "code",
   "execution_count": null,
   "id": "8a8e84b3",
   "metadata": {},
   "outputs": [],
   "source": []
  },
  {
   "cell_type": "code",
   "execution_count": null,
   "id": "a73f86c4",
   "metadata": {},
   "outputs": [],
   "source": []
  }
 ],
 "metadata": {
  "kernelspec": {
   "display_name": "Python 3 (ipykernel)",
   "language": "python",
   "name": "python3"
  },
  "language_info": {
   "codemirror_mode": {
    "name": "ipython",
    "version": 3
   },
   "file_extension": ".py",
   "mimetype": "text/x-python",
   "name": "python",
   "nbconvert_exporter": "python",
   "pygments_lexer": "ipython3",
   "version": "3.13.5"
  }
 },
 "nbformat": 4,
 "nbformat_minor": 5
}
