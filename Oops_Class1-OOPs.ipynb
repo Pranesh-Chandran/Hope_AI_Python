{
 "cells": [
  {
   "cell_type": "code",
   "execution_count": 21,
   "id": "5ccc4618-4df4-4632-aad8-51f6c6885eef",
   "metadata": {},
   "outputs": [],
   "source": [
    "def addition(a,b):\n",
    "    addition = a+b\n",
    "    return addition"
   ]
  },
  {
   "cell_type": "code",
   "execution_count": 22,
   "id": "a692b884-1ca3-4af2-9669-bc8f66d19d7e",
   "metadata": {},
   "outputs": [
    {
     "data": {
      "text/plain": [
       "11"
      ]
     },
     "execution_count": 22,
     "metadata": {},
     "output_type": "execute_result"
    }
   ],
   "source": [
    "addition(5,6)"
   ]
  },
  {
   "cell_type": "code",
   "execution_count": 5,
   "id": "fc5786cf-8536-4b91-a512-a16407389506",
   "metadata": {},
   "outputs": [],
   "source": [
    "def oddEven():\n",
    "    tmp = int(input(\"Enter your number: \"))\n",
    "    if(tmp % 2 ==0):\n",
    "        print(tmp, \" is even\")\n",
    "        msg = \"Even Number\"\n",
    "    else:\n",
    "        print(tmp, \" is odd\")\n",
    "        msg = \"Odd Number\"\n",
    "    return(msg)\n"
   ]
  },
  {
   "cell_type": "code",
   "execution_count": 9,
   "id": "18602c0e-7b51-4fd8-9f61-1e7d91ed2a56",
   "metadata": {},
   "outputs": [
    {
     "name": "stdin",
     "output_type": "stream",
     "text": [
      "Enter your number:  10\n"
     ]
    },
    {
     "name": "stdout",
     "output_type": "stream",
     "text": [
      "10  is even\n"
     ]
    }
   ],
   "source": [
    "message = oddEven()"
   ]
  },
  {
   "cell_type": "code",
   "execution_count": 10,
   "id": "a5427e0d-8e7e-40a2-8105-6b76ead0bad8",
   "metadata": {},
   "outputs": [
    {
     "name": "stdout",
     "output_type": "stream",
     "text": [
      "Even Number\n"
     ]
    }
   ],
   "source": [
    "print(message)"
   ]
  },
  {
   "cell_type": "code",
   "execution_count": 13,
   "id": "fb03f2f4-ca87-4c15-9da2-27613d4e3cf7",
   "metadata": {},
   "outputs": [
    {
     "name": "stdout",
     "output_type": "stream",
     "text": [
      "The given number is Even\n"
     ]
    }
   ],
   "source": [
    "if(message == \"Even Number\"):\n",
    "    print(\"The given number is Even\")\n",
    "else:\n",
    "    print(\"The given number is Odd\")"
   ]
  },
  {
   "cell_type": "code",
   "execution_count": 15,
   "id": "b6068306-056a-41f1-88d5-8e1573704321",
   "metadata": {},
   "outputs": [],
   "source": [
    "def BMI():\n",
    "    BMI=int(input(\"Enter the BMI Index:\"))\n",
    "    if(BMI<18.5):\n",
    "        print(\"Underweight\")\n",
    "        msg = \"Underweight\"\n",
    "    elif(BMI<24.9):\n",
    "        print(\"Normal\")\n",
    "        msg = (\"Normal\")\n",
    "    elif(BMI<29.9):\n",
    "        print(\"Overweight\")\n",
    "        msg = (\"Overweight\")\n",
    "    else:\n",
    "        print(\"Very Overweight\")\n",
    "        msg = (\"Very Overweight\")\n",
    "    return(msg)"
   ]
  },
  {
   "cell_type": "code",
   "execution_count": 16,
   "id": "d233d1e7-f382-44ec-b41f-c30515b54ce5",
   "metadata": {},
   "outputs": [
    {
     "name": "stdin",
     "output_type": "stream",
     "text": [
      "Enter the BMI Index: 34\n"
     ]
    },
    {
     "name": "stdout",
     "output_type": "stream",
     "text": [
      "Very Overweight\n"
     ]
    }
   ],
   "source": [
    "bmi = BMI()"
   ]
  },
  {
   "cell_type": "code",
   "execution_count": 17,
   "id": "2e339430-efcd-436b-bd31-92f8c11e27d7",
   "metadata": {},
   "outputs": [
    {
     "name": "stdout",
     "output_type": "stream",
     "text": [
      "BMI is : Very Overweight\n"
     ]
    }
   ],
   "source": [
    "print(\"BMI is :\", bmi)"
   ]
  },
  {
   "cell_type": "code",
   "execution_count": 23,
   "id": "e3826b9e-11df-45ec-93f5-dda386db00c4",
   "metadata": {},
   "outputs": [],
   "source": [
    "def sub(a,b):\n",
    "    sub1 = a-b\n",
    "    return(sub1)\n",
    "    "
   ]
  },
  {
   "cell_type": "code",
   "execution_count": 24,
   "id": "4d14ad84-8489-464c-b57f-17a5ce7c9e28",
   "metadata": {},
   "outputs": [
    {
     "data": {
      "text/plain": [
       "-1"
      ]
     },
     "execution_count": 24,
     "metadata": {},
     "output_type": "execute_result"
    }
   ],
   "source": [
    "sub(2,3)"
   ]
  },
  {
   "cell_type": "code",
   "execution_count": 26,
   "id": "0491efaf-deb5-4ba0-bd87-4a0ce1ccb542",
   "metadata": {},
   "outputs": [
    {
     "name": "stdout",
     "output_type": "stream",
     "text": [
      "-1\n"
     ]
    }
   ],
   "source": [
    "msg1 = sub(3,4)\n",
    "print(msg1)"
   ]
  },
  {
   "cell_type": "code",
   "execution_count": 3,
   "id": "f304fe2c-7191-4eb7-a732-275071c080f4",
   "metadata": {},
   "outputs": [],
   "source": [
    "class multipleFunctions():\n",
    "    def BMI():\n",
    "        BMI=int(input(\"Enter the BMI Index:\"))\n",
    "        if(BMI<18.5):\n",
    "            print(\"Underweight\")\n",
    "            msg = \"Underweight\"\n",
    "        elif(BMI<24.9):\n",
    "            print(\"Normal\")\n",
    "            msg = (\"Normal\")\n",
    "        elif(BMI<29.9):\n",
    "            print(\"Overweight\")\n",
    "            msg = (\"Overweight\")\n",
    "        else:\n",
    "            print(\"Very Overweight\")\n",
    "            msg = (\"Very Overweight\")\n",
    "        return(msg)\n",
    "    def oddEven():\n",
    "        tmp = int(input(\"Enter your number: \"))\n",
    "        if(tmp % 2 ==0):\n",
    "            print(tmp, \" is even\")\n",
    "            msg = \"Even Number\"\n",
    "        else:\n",
    "            print(tmp, \" is odd\")\n",
    "            msg = \"Odd Number\"\n",
    "        return(msg)\n",
    "    "
   ]
  },
  {
   "cell_type": "code",
   "execution_count": 4,
   "id": "05a05a80-6981-4184-9ca4-e87411a5ee51",
   "metadata": {},
   "outputs": [
    {
     "name": "stdin",
     "output_type": "stream",
     "text": [
      "Enter the BMI Index: 25\n"
     ]
    },
    {
     "name": "stdout",
     "output_type": "stream",
     "text": [
      "Overweight\n"
     ]
    },
    {
     "data": {
      "text/plain": [
       "'Overweight'"
      ]
     },
     "execution_count": 4,
     "metadata": {},
     "output_type": "execute_result"
    }
   ],
   "source": [
    "multipleFunctions.BMI()"
   ]
  },
  {
   "cell_type": "code",
   "execution_count": 5,
   "id": "0617e5e6-116b-4e88-b8a2-acd712bbd72c",
   "metadata": {},
   "outputs": [
    {
     "name": "stdin",
     "output_type": "stream",
     "text": [
      "Enter your number:  56\n"
     ]
    },
    {
     "name": "stdout",
     "output_type": "stream",
     "text": [
      "56  is even\n"
     ]
    },
    {
     "data": {
      "text/plain": [
       "'Even Number'"
      ]
     },
     "execution_count": 5,
     "metadata": {},
     "output_type": "execute_result"
    }
   ],
   "source": [
    "multipleFunctions.oddEven()"
   ]
  },
  {
   "cell_type": "code",
   "execution_count": null,
   "id": "b214f4f5-bcc9-4675-bd7f-cacd82153b1a",
   "metadata": {},
   "outputs": [],
   "source": []
  }
 ],
 "metadata": {
  "kernelspec": {
   "display_name": "Python 3 (ipykernel)",
   "language": "python",
   "name": "python3"
  },
  "language_info": {
   "codemirror_mode": {
    "name": "ipython",
    "version": 3
   },
   "file_extension": ".py",
   "mimetype": "text/x-python",
   "name": "python",
   "nbconvert_exporter": "python",
   "pygments_lexer": "ipython3",
   "version": "3.13.5"
  }
 },
 "nbformat": 4,
 "nbformat_minor": 5
}
