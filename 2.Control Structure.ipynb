{
 "cells": [
  {
   "cell_type": "code",
   "execution_count": 1,
   "id": "6fdf6bf1-50cc-4bfb-a623-09b2acc2f061",
   "metadata": {},
   "outputs": [],
   "source": [
    "#if syntax:\n",
    "if():\n",
    "    print()"
   ]
  },
  {
   "cell_type": "code",
   "execution_count": 26,
   "id": "06fdf3dc-95db-493e-9fa9-9147d76b44d1",
   "metadata": {},
   "outputs": [
    {
     "name": "stdin",
     "output_type": "stream",
     "text": [
      "Enter your age : 18\n"
     ]
    }
   ],
   "source": [
    "#Identify Children or Adult based on age given:\n",
    "age = int(input(\"Enter your age :\"))\n"
   ]
  },
  {
   "cell_type": "code",
   "execution_count": 6,
   "id": "5d0024e8-ea0a-4c2c-8392-139049be34f8",
   "metadata": {},
   "outputs": [
    {
     "name": "stdout",
     "output_type": "stream",
     "text": [
      "The Person is Major\n"
     ]
    }
   ],
   "source": [
    "#if condition\n",
    "if(age == 18):\n",
    "    print(\"The Person is Major\")"
   ]
  },
  {
   "cell_type": "code",
   "execution_count": 10,
   "id": "2f94df80-dbbb-41ca-95c3-55a472a64193",
   "metadata": {},
   "outputs": [
    {
     "name": "stdin",
     "output_type": "stream",
     "text": [
      "Enter your age : 16\n"
     ]
    }
   ],
   "source": [
    "age = int(input(\"Enter your age :\"))"
   ]
  },
  {
   "cell_type": "code",
   "execution_count": 12,
   "id": "0f461594-5b13-464e-961d-ae2f28fdbe6d",
   "metadata": {},
   "outputs": [
    {
     "name": "stdout",
     "output_type": "stream",
     "text": [
      "Children\n"
     ]
    }
   ],
   "source": [
    "#if-else condition\n",
    "if(age >= 18):\n",
    "    print(\"Adult\")\n",
    "else:\n",
    "    print(\"Children\")\n",
    "    "
   ]
  },
  {
   "cell_type": "code",
   "execution_count": null,
   "id": "91550cae-8362-4497-b0ed-517e03dba171",
   "metadata": {},
   "outputs": [],
   "source": [
    "#if-elif condition:\n",
    "if():\n",
    "    print()\n",
    "elif():\n",
    "    print()\n",
    "elif():\n",
    "    print()\n",
    "else:\n",
    "    print()"
   ]
  },
  {
   "cell_type": "code",
   "execution_count": 19,
   "id": "1c7a1350-f4be-4d53-8ffe-c09d1b18d479",
   "metadata": {},
   "outputs": [
    {
     "name": "stdin",
     "output_type": "stream",
     "text": [
      "Enter your age:  59\n"
     ]
    }
   ],
   "source": [
    "age = int(input(\"Enter your age: \"))"
   ]
  },
  {
   "cell_type": "code",
   "execution_count": 20,
   "id": "50152397-a9ec-4dde-a8d3-bf89d838fe11",
   "metadata": {},
   "outputs": [
    {
     "name": "stdout",
     "output_type": "stream",
     "text": [
      "Senior Citizon\n"
     ]
    }
   ],
   "source": [
    "if(age <18):\n",
    "    print(\"Children\")\n",
    "elif(age < 35 ):\n",
    "    print(\"Adult\")\n",
    "elif(age < 55):\n",
    "    print(\"Citizen\")\n",
    "else:\n",
    "    print(\"Senior Citizon\")"
   ]
  },
  {
   "cell_type": "code",
   "execution_count": 21,
   "id": "601e342d-3592-49ec-a7e6-0188a8074d79",
   "metadata": {},
   "outputs": [
    {
     "name": "stdout",
     "output_type": "stream",
     "text": [
      "1\n",
      "2\n",
      "3\n"
     ]
    }
   ],
   "source": [
    "#for loop \n",
    "range = [1,2,3]\n",
    "for tmp in range:\n",
    "    print(tmp)"
   ]
  },
  {
   "cell_type": "code",
   "execution_count": 25,
   "id": "6b61a21b-a363-42d4-8a80-34fe0ff89cfd",
   "metadata": {},
   "outputs": [
    {
     "name": "stdout",
     "output_type": "stream",
     "text": [
      "Children\n",
      "Adult\n",
      "citizen\n",
      "senior citizen\n"
     ]
    }
   ],
   "source": [
    "ages = [12, 23, 45, 56]\n",
    "for tmp in ages:\n",
    "    if(tmp <18):\n",
    "        print(\"Children\")\n",
    "    elif(tmp<35):\n",
    "        print(\"Adult\")\n",
    "    elif(tmp <50):\n",
    "        print(\"citizen\")\n",
    "    else:\n",
    "        print(\"senior citizen\")\n",
    "        "
   ]
  },
  {
   "cell_type": "code",
   "execution_count": 28,
   "id": "31e1282b-4a5a-4d3e-87d8-fd43a10acae0",
   "metadata": {},
   "outputs": [
    {
     "name": "stdin",
     "output_type": "stream",
     "text": [
      "Enter ur number:  3\n"
     ]
    },
    {
     "name": "stdout",
     "output_type": "stream",
     "text": [
      "Result is Odd Number\n"
     ]
    }
   ],
   "source": [
    "num = int(input(\"Enter ur number: \"))\n",
    "if((num%2)==0):\n",
    "    print(\"Result is Even Number\")\n",
    "else:\n",
    "    print(\"Result is Odd Number\")"
   ]
  },
  {
   "cell_type": "code",
   "execution_count": null,
   "id": "8228dfd9-7f8e-4906-b406-5e54174a276f",
   "metadata": {},
   "outputs": [],
   "source": []
  }
 ],
 "metadata": {
  "kernelspec": {
   "display_name": "Python 3 (ipykernel)",
   "language": "python",
   "name": "python3"
  },
  "language_info": {
   "codemirror_mode": {
    "name": "ipython",
    "version": 3
   },
   "file_extension": ".py",
   "mimetype": "text/x-python",
   "name": "python",
   "nbconvert_exporter": "python",
   "pygments_lexer": "ipython3",
   "version": "3.13.5"
  }
 },
 "nbformat": 4,
 "nbformat_minor": 5
}
