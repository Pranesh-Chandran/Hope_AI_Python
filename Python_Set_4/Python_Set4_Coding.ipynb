{
 "cells": [
  {
   "cell_type": "code",
   "execution_count": 1,
   "id": "236d4978",
   "metadata": {
    "id": "236d4978"
   },
   "outputs": [
    {
     "name": "stdout",
     "output_type": "stream",
     "text": [
      "12\n"
     ]
    }
   ],
   "source": [
    "#1.Find the GCD of Two Numbers\n",
    "#Question: Write a Python program to find the Greatest Common Divisor (GCD) of 36 and 60.\n",
    "#Ans:\n",
    "import math\n",
    "print(math.gcd(36,60))\n"
   ]
  },
  {
   "cell_type": "code",
   "execution_count": 2,
   "id": "e1bfc6af",
   "metadata": {
    "id": "e1bfc6af"
   },
   "outputs": [
    {
     "name": "stdout",
     "output_type": "stream",
     "text": [
      "Sum of the digits 987 is : 24\n"
     ]
    }
   ],
   "source": [
    "#2. Find the Sum of Digits of a Number\n",
    "#Question: Write a Python program to find the sum of the digits of the number 987.\n",
    "#Ans:\n",
    "num = 987\n",
    "tmp = 0\n",
    "for i in str(num):\n",
    "    tmp = int(i) +tmp\n",
    "print(f\"Sum of the digits 987 is : {tmp}\")\n",
    "  "
   ]
  },
  {
   "cell_type": "code",
   "execution_count": 3,
   "id": "e051bb22",
   "metadata": {
    "id": "e051bb22"
   },
   "outputs": [
    {
     "name": "stdout",
     "output_type": "stream",
     "text": [
      "Armstrong Numbers Between 1 and 1000 is  [1, 2, 3, 4, 5, 6, 7, 8, 9, 153, 370, 371, 407]\n"
     ]
    }
   ],
   "source": [
    "#3. Find All Armstrong Numbers Between 1 and 1000\n",
    "#Question: Write a Python program to print all Armstrong numbers between 1 and 1000.\n",
    "#Ans:\n",
    "numb1 = list(range(1,1000))\n",
    "ams=[]\n",
    "for i in numb1:\n",
    "    sum1= 0\n",
    "    b = len(str(i))\n",
    "   # print(\"length\",b)\n",
    "    tmp = i\n",
    "    while tmp != 0:\n",
    "        r = tmp % 10\n",
    "        sum1 = sum1 + r**b\n",
    "        tmp = tmp // 10\n",
    "    if i == sum1:\n",
    "        ams.append(sum1)\n",
    "        \n",
    "print(f\"Armstrong Numbers Between 1 and 1000 is  {ams}\")"
   ]
  },
  {
   "cell_type": "code",
   "execution_count": 4,
   "id": "dbffe07b",
   "metadata": {
    "id": "dbffe07b"
   },
   "outputs": [
    {
     "name": "stdout",
     "output_type": "stream",
     "text": [
      "{'p': 1, 'r': 2, 'o': 1, 'g': 2, 'a': 1, 'm': 2, 'i': 1, 'n': 1}\n"
     ]
    }
   ],
   "source": [
    "#4.Count the Frequency of Each Character in a String\n",
    "#Question: Write a Python program to count the frequency of each character in \"programming\".\n",
    "#Ans is:\n",
    "txt = \"programming\"\n",
    "freq ={}\n",
    "for i in txt:\n",
    "    if i in freq:\n",
    "        freq[i] += 1\n",
    "    else:\n",
    "        freq[i] = 1\n",
    "print(freq)"
   ]
  },
  {
   "cell_type": "code",
   "execution_count": 5,
   "id": "f092013b",
   "metadata": {
    "id": "f092013b"
   },
   "outputs": [
    {
     "name": "stdout",
     "output_type": "stream",
     "text": [
      "1\n",
      "4\n",
      "9\n",
      "16\n",
      "25\n",
      "36\n",
      "49\n",
      "64\n",
      "81\n",
      "100\n"
     ]
    }
   ],
   "source": [
    "#5. Generate a List of Squares of Numbers from 1 to 10\n",
    "#Question: Write a Python program to generate a list containing squares of numbers from 1 to 10.\n",
    "#Ans:\n",
    "\n",
    "a = range(1, 10+1)\n",
    "for i in a:\n",
    "    #print(i)\n",
    "    tmp = i * i\n",
    "    print(tmp)\n",
    "\n"
   ]
  },
  {
   "cell_type": "code",
   "execution_count": null,
   "id": "85a782d9",
   "metadata": {
    "id": "85a782d9"
   },
   "outputs": [],
   "source": []
  }
 ],
 "metadata": {
  "colab": {
   "provenance": []
  },
  "kernelspec": {
   "display_name": "Python 3 (ipykernel)",
   "language": "python",
   "name": "python3"
  },
  "language_info": {
   "codemirror_mode": {
    "name": "ipython",
    "version": 3
   },
   "file_extension": ".py",
   "mimetype": "text/x-python",
   "name": "python",
   "nbconvert_exporter": "python",
   "pygments_lexer": "ipython3",
   "version": "3.13.5"
  }
 },
 "nbformat": 4,
 "nbformat_minor": 5
}
