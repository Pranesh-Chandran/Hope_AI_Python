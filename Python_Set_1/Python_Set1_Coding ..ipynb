{
 "cells": [
  {
   "cell_type": "code",
   "execution_count": null,
   "id": "5fd5c475",
   "metadata": {},
   "outputs": [],
   "source": [
    "1.Write a Python program that prints numbers from 1 to 5.\n",
    "Expected Output:\n",
    "1 2 3 4 5\n"
   ]
  },
  {
   "cell_type": "code",
   "execution_count": 2,
   "id": "a5148aa2-59ef-43a1-968b-4c1e1b238766",
   "metadata": {},
   "outputs": [
    {
     "name": "stdout",
     "output_type": "stream",
     "text": [
      "1 2 3 4 5\n"
     ]
    }
   ],
   "source": [
    "#Answer is :\n",
    "listNum= [1,2,3,4,5]\n",
    "print(*listNum)"
   ]
  },
  {
   "cell_type": "code",
   "execution_count": null,
   "id": "3c8bc472",
   "metadata": {},
   "outputs": [],
   "source": [
    "2.Write a Python program to print the first 5 even numbers. Expected Output:\n",
    "2 4 6 8 10\n",
    "\n"
   ]
  },
  {
   "cell_type": "code",
   "execution_count": 3,
   "id": "3f89095c-f9ea-4790-bd17-30ac1b858f29",
   "metadata": {},
   "outputs": [
    {
     "name": "stdout",
     "output_type": "stream",
     "text": [
      "2 4 6 8 1 0\n"
     ]
    }
   ],
   "source": [
    "#Answer is:\n",
    "num = ''\n",
    "for i in range(1,11):\n",
    "    if i%2 == 0:\n",
    "        num = num+str(i)\n",
    "print(*num)"
   ]
  },
  {
   "cell_type": "code",
   "execution_count": null,
   "id": "5e7af211",
   "metadata": {},
   "outputs": [],
   "source": [
    "3.Write a Python program to print the sum of numbers from 1 to 10. \n",
    "Expected Output:55\n",
    "\n"
   ]
  },
  {
   "cell_type": "code",
   "execution_count": 4,
   "id": "d25e63ca-5465-4876-8da9-a7442021030e",
   "metadata": {},
   "outputs": [
    {
     "name": "stdout",
     "output_type": "stream",
     "text": [
      "55\n"
     ]
    }
   ],
   "source": [
    "#Answer is\n",
    "sum = 0\n",
    "for i in range(1,11):\n",
    "    sum = sum + i\n",
    "print(sum)"
   ]
  },
  {
   "cell_type": "code",
   "execution_count": null,
   "id": "ac09aa1a",
   "metadata": {},
   "outputs": [],
   "source": [
    "4.Write a Python function to find the factorial of 5. Expected Output:\n",
    "120\n",
    "\n"
   ]
  },
  {
   "cell_type": "code",
   "execution_count": 5,
   "id": "f7150942-9c1f-4b83-9a76-609d9ccd0f33",
   "metadata": {},
   "outputs": [
    {
     "name": "stdout",
     "output_type": "stream",
     "text": [
      "120\n"
     ]
    }
   ],
   "source": [
    "fact = 1\n",
    "num = 5\n",
    "for i in range(1,num+1):\n",
    "    fact = fact * i\n",
    "print(fact)"
   ]
  },
  {
   "cell_type": "code",
   "execution_count": null,
   "id": "8ab9fc8a",
   "metadata": {},
   "outputs": [],
   "source": [
    "5.Write a Python program to check if a number is prime. Expected Output (for input 7):\n",
    "7 is a prime number\n",
    "\n"
   ]
  },
  {
   "cell_type": "code",
   "execution_count": 7,
   "id": "858e7eb2-360a-47da-9b4f-9029af18e9b0",
   "metadata": {},
   "outputs": [
    {
     "name": "stdout",
     "output_type": "stream",
     "text": [
      "7 is a prime number\n"
     ]
    }
   ],
   "source": [
    "def is_prime(n):\n",
    "    if n < 2:\n",
    "        return False\n",
    "    for i in range(2, int(n ** 0.5) + 1):\n",
    "        if n % i == 0:\n",
    "            return False\n",
    "    return True\n",
    "\n",
    "num = 7\n",
    "if is_prime(num):\n",
    "    print(f\"{num} is a prime number\")\n",
    "else:\n",
    "    print(f\"{num} is not a prime number\")"
   ]
  },
  {
   "cell_type": "code",
   "execution_count": null,
   "id": "a48d7b01-ae89-478a-9da4-5c21ea89e163",
   "metadata": {},
   "outputs": [],
   "source": []
  }
 ],
 "metadata": {
  "kernelspec": {
   "display_name": "Python 3 (ipykernel)",
   "language": "python",
   "name": "python3"
  },
  "language_info": {
   "codemirror_mode": {
    "name": "ipython",
    "version": 3
   },
   "file_extension": ".py",
   "mimetype": "text/x-python",
   "name": "python",
   "nbconvert_exporter": "python",
   "pygments_lexer": "ipython3",
   "version": "3.13.5"
  }
 },
 "nbformat": 4,
 "nbformat_minor": 5
}
