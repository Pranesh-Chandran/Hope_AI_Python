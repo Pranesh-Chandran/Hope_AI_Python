{
 "cells": [
  {
   "cell_type": "code",
   "execution_count": null,
   "id": "aba1475d",
   "metadata": {},
   "outputs": [],
   "source": [
    "1.Write a Python program to find the reverse of a string. Expected Output (for input \"hello\"):\n",
    "olleh\n"
   ]
  },
  {
   "cell_type": "code",
   "execution_count": 1,
   "id": "97214be6-9c53-4ec3-be22-378f3ef944b0",
   "metadata": {},
   "outputs": [
    {
     "name": "stdout",
     "output_type": "stream",
     "text": [
      "olleh\n"
     ]
    }
   ],
   "source": [
    "#Answer is \n",
    "tmp = \"hello\"\n",
    "rev = tmp[::-1]\n",
    "print(rev)"
   ]
  },
  {
   "cell_type": "code",
   "execution_count": null,
   "id": "5b1ec143",
   "metadata": {},
   "outputs": [],
   "source": [
    "2.Write a Python program to generate the Fibonacci sequence up to 10 terms.\n",
    "Expected Output:\n",
    "0 1 1 2 3 5 8 13 21 34\n"
   ]
  },
  {
   "cell_type": "code",
   "execution_count": 3,
   "id": "b7a54d61-3bf7-42fe-81ce-95c2c439de40",
   "metadata": {},
   "outputs": [
    {
     "name": "stdout",
     "output_type": "stream",
     "text": [
      "0 1 1 2 3 5 8 13 21 34\n"
     ]
    }
   ],
   "source": [
    "#Answer is \n",
    "strt = 2\n",
    "fst = 0\n",
    "sec = 1\n",
    "fib = [fst,sec]\n",
    "count = 10\n",
    "while strt < count:\n",
    "    tmp = fst + sec\n",
    "    fst = sec\n",
    "    sec = tmp\n",
    "    strt = strt + 1\n",
    "    fib += [tmp]\n",
    "print(*fib)"
   ]
  },
  {
   "cell_type": "code",
   "execution_count": null,
   "id": "c656f04a",
   "metadata": {},
   "outputs": [],
   "source": [
    "3.Write a Python function to check if a given string is a palindrome.\n",
    "Expected Output (for input \"madam\"):\n",
    "madam is a palindrome\n",
    "\n"
   ]
  },
  {
   "cell_type": "code",
   "execution_count": 7,
   "id": "9caa98c1-6f8a-49ce-af5c-6c42f402d489",
   "metadata": {},
   "outputs": [
    {
     "name": "stdin",
     "output_type": "stream",
     "text": [
      "Enter the string : madam\n"
     ]
    },
    {
     "name": "stdout",
     "output_type": "stream",
     "text": [
      "madam is a palindrome\n"
     ]
    }
   ],
   "source": [
    "txt = input(\"Enter the string :\").lower()\n",
    "rev = txt[::-1]\n",
    "if txt == rev:\n",
    "    print(f\"{txt} is a palindrome\")\n",
    "else:\n",
    "    print(f\"{txt} is not a palindrome\")"
   ]
  },
  {
   "cell_type": "code",
   "execution_count": null,
   "id": "cd7b0a78",
   "metadata": {},
   "outputs": [],
   "source": [
    "4.Write a Python program to count the number of vowels in a given string. \n",
    "Expected Output (for input \"education\"):\n",
    "\n",
    "Number of vowels: 5\n"
   ]
  },
  {
   "cell_type": "code",
   "execution_count": 8,
   "id": "9fd56143-fd22-44eb-9d48-cbbd30a244e9",
   "metadata": {},
   "outputs": [
    {
     "name": "stdout",
     "output_type": "stream",
     "text": [
      "Number of vowels: 5\n"
     ]
    }
   ],
   "source": [
    "#Answer is\n",
    "def count_vowels(s):\n",
    "    vowels = \"aeiouAEIOU\"\n",
    "    return sum(1 for char in s if char in vowels)\n",
    "\n",
    "print(\"Number of vowels:\", count_vowels(\"education\"))"
   ]
  },
  {
   "cell_type": "code",
   "execution_count": null,
   "id": "bdbb9b19",
   "metadata": {},
   "outputs": [],
   "source": [
    "5.Write a Python program to remove duplicates from a list.\n",
    "Expected Output (for input [1, 2, 2, 3, 4, 4, 5]):\n",
    "\n",
    " [1, 2, 3, 4, 5]\n",
    "\n",
    "\n"
   ]
  },
  {
   "cell_type": "code",
   "execution_count": 9,
   "id": "2883731e-c0f5-4ad1-9c9e-5f6a9ca48406",
   "metadata": {},
   "outputs": [
    {
     "name": "stdout",
     "output_type": "stream",
     "text": [
      "[1, 2, 3, 4, 5]\n"
     ]
    }
   ],
   "source": [
    "#Answer is \n",
    "lst = [1, 2, 2, 3, 4, 4, 5]\n",
    "unique_lst = set(lst)\n",
    "print(list(unique_lst))"
   ]
  },
  {
   "cell_type": "code",
   "execution_count": null,
   "id": "3d75d0ef-56f8-4141-a187-e9ed6155d302",
   "metadata": {},
   "outputs": [],
   "source": []
  }
 ],
 "metadata": {
  "kernelspec": {
   "display_name": "Python 3 (ipykernel)",
   "language": "python",
   "name": "python3"
  },
  "language_info": {
   "codemirror_mode": {
    "name": "ipython",
    "version": 3
   },
   "file_extension": ".py",
   "mimetype": "text/x-python",
   "name": "python",
   "nbconvert_exporter": "python",
   "pygments_lexer": "ipython3",
   "version": "3.13.5"
  }
 },
 "nbformat": 4,
 "nbformat_minor": 5
}
